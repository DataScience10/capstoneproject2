{
    "cells": [
        {
            "cell_type": "markdown",
            "metadata": {
                "collapsed": true
            },
            "source": "# Section 1: Case Introduction"
        },
        {
            "cell_type": "markdown",
            "metadata": {},
            "source": "In this section I will clearly my choice of using Foursquare location data to solve a imagined business opportunity.\nBackground\n\nThere are many travel sites on the Internet, including FourSquare, that will tell you all about places to go, things to see, restaurants to eat at, bars to drink and then where to get breakfast in the morning for \na strong coffee or a good meal. The problems with these sites is that they are not multi-dimensional. \nIf you want to find out all this information about a city you plan to visit next month, you have to a lot of work.\nThe areas surrounding this new venue might be a criminal neighborhood including car theft, robbery and assault.\nHow can you solve this questions or avoid these risks.\n\nImagine the following storyline:\n\n    a. You like to plan ahead and always review your options and make your choices about where you will visit.\n    b. You are flying to Los Angeles for visiting an IBM Think Conference.\n    c. You arrive in Los Angeles a day before the conference starts but you've managed to convince your boss to delay your return by a few days giving you time to explore and enjoy the city.\n    d. But you don't know a person in Los Angeles to show you around to all the top sites and to bring you to the best restaurants.\n    e. Also the last time you went to a conference in Las Vegas you were robbed and had your passport and credit cards stolen so you want to do some research to the venue and the surrounding area.\n    f. The conference is within a couple of days and you don't have time to do all the research you'd like.\n"
        },
        {
            "cell_type": "markdown",
            "metadata": {},
            "source": "# Project description"
        },
        {
            "cell_type": "markdown",
            "metadata": {},
            "source": "In this project I want to show that when you are driven by venue and location data from FourSquare, backed up with open source crime data, \nthat it is possible to present the safety-aware traveler with a list of attractions to visit supplemented with a graphics showing the occurrence of crime in the region of the venue.\n\nA high level approach is as follows:\n\n    The travelers decides on a city location [in this case Los Angeles\n    The FourSquare website is scrapped for the top venues in the city\n    From this list of top venues the list is augmented with additional geographical data\n    Using this additional geographical data the top nearby restaurants are selects\n    The historical crime within a predetermined distance of all venues are obtained\n    A map is presented to the to the traveler showing the selected venues and crime statistics of the area.\n    The future probability of a crime happening near or around the selected top sites is also presented to the user\n\nWho is this solution targeted at\n\nThis solution is targeted at the safety-aware traveler. \nThe traveler wants to see all the main sites of a city that he had never visited before but at the same time, for whatever reasons unknown, \nthe traveler wants to be able to do all that he/she can do to make sure that he/she don't have trouble or that it is safe to visit this venue and this restaurant at 8:00 pm in the afternoon.\n\nSome examples of personas include:\n    \n    An elderly traveler\n    A single female traveler\n                                              \nThere are many data science aspect of this project including:\n\n    Data Acquisition\n    Data Cleansing\n    Data Analysis\n    Machine Learning\n    Prediction\n\nWith this data science research the safety-aware traveler can explore Los Angeles and feel much more confident.\n"
        }
    ],
    "metadata": {
        "kernelspec": {
            "display_name": "Python 3.6",
            "language": "python",
            "name": "python3"
        },
        "language_info": {
            "codemirror_mode": {
                "name": "ipython",
                "version": 3
            },
            "file_extension": ".py",
            "mimetype": "text/x-python",
            "name": "python",
            "nbconvert_exporter": "python",
            "pygments_lexer": "ipython3",
            "version": "3.6.8"
        }
    },
    "nbformat": 4,
    "nbformat_minor": 1
}