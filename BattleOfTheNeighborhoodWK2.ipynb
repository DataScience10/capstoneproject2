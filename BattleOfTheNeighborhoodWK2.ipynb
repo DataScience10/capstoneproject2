{
 "cells": [
  {
   "cell_type": "code",
   "execution_count": 8,
   "metadata": {},
   "outputs": [
    {
     "name": "stdout",
     "output_type": "stream",
     "text": [
      "Collecting package metadata (current_repodata.json): ...working... done\n",
      "Solving environment: ...working... done\n",
      "\n",
      "# All requested packages already installed.\n",
      "\n"
     ]
    }
   ],
   "source": [
    "# Import Pandas and Numpy to provide DataFrame support\n",
    "# Import Folium to display the Maps for Visualisation\n",
    "# Import Nominatim module to convert an address into latitude and longitude values as map rendering library\n",
    "# Import SciKit Learn Libraries\n",
    "import pandas as pd\n",
    "#pd.set_option('display.max_columns', None)\n",
    "#pd.set_option('display.max_rows', None)\n",
    "\n",
    "import numpy as np\n",
    "# import matplotlib as mpl\n",
    "# import matplotlib.pyplot as plt\n",
    "#import seaborn as sns\n",
    "#sns.set_style(\"darkgrid\")\n",
    "#font = {'size'   : 12}\n",
    "#mpl.rc('font', **font)\n",
    "#!conda install -c conda-forge folium\n",
    "#import folium\n",
    "!conda install -c anaconda xlrd --yes"
   ]
  },
  {
   "cell_type": "code",
   "execution_count": 14,
   "metadata": {},
   "outputs": [],
   "source": [
    "#from folium.plugins import MarkerCluster\n",
    "#from folium.plugins import FastMarkerCluster\n",
    "#from folium import plugins\n",
    "#from geopy.geocoders import Nominatim\n",
    "\n",
    "#import yaml\n",
    "\n",
    "#with open(\"config.yml\", \"r\") as f:\n",
    "#    cfg = yaml.load(f)\n",
    " \n",
    "#search_params = {\n",
    "#    'client_id': cfg['client_id'],\n",
    "#    'client_secret': cfg['client_secret'],\n",
    "#    'intent': 'browse',\n",
    "#    'limit': 50,\n",
    "#    'v': cfg['version']\n",
    "#    }\n",
    "\n",
    "#from sklearn import preprocessing\n",
    "#from sklearn.model_selection import train_test_split\n",
    "#from sklearn.neighbors import KNeighborsClassifier\n",
    "#from sklearn.naive_bayes import BernoulliNB\n",
    "#from sklearn.ensemble import RandomForestClassifier\n",
    "#from sklearn import metrics\n",
    "#from sklearn.model_selection import KFold, cross_val_score\n",
    "\n",
    "#def cross_validate(model, n_splits = 10):\n",
    "    \n",
    "    #k_fold = KFold(n_splits = n_splits)\n",
    "    #scores = [model.fit(X[train], y[train]).score(X[test], y[test]) for train, test in k_fold.split(X)]\n",
    "    \n",
    "    #scores = np.percentile(scores, [40, 50, 60])\n",
    "    #return scores"
   ]
  },
  {
   "cell_type": "markdown",
   "metadata": {},
   "source": [
    "## Import and processing Los Angeles Crime dataset"
   ]
  },
  {
   "cell_type": "markdown",
   "metadata": {},
   "source": [
    "This dataset reflects reported incidents of crime from Los Angeles between 2010 and 2015. The data is obtained from Kaggle but the general source is the Police Department of Los Angeles. The structure of the dataset is as follows.\n",
    "Column Name \tType \tDescription\n",
    "DR Number \tPlain Text \tUnique Records Division number of police Los Angeles\n",
    "Date Reported \tDate \tData when incident reported\n",
    "Date Occurred \tDate \tDate when incident occurred\n",
    "Time Occurred \tTime \tTime when incident occurred\n",
    "Area ID \tPlain Text \tID of area Los Angeles\n",
    "Area Name \tPlain Text \tName of area Los Angeles\n",
    "Reporting District \tPlain Text \tName of area Los Angeles\n",
    "Crime Code \tPlain Text \tCode of Crine\n",
    "Crime Code Description \tPlain Text \tDescription of crime\n",
    "MO Codes \tPlain Text \tMO Codes\n",
    "Victim Age \tPlain Text \tAge of Victim\n",
    "Victim Sex \tPlain Text \tGender of Victim\n",
    "Victim Descent \tPlain Text \tVictim Descent\n",
    "Premise Code \tPlain Text \tPremise Code\n",
    "Premise Description \tPlain Text \tPremise Description\n",
    "Weapon Used Code \tPlain Text \tWeapon Used Code\n",
    "Weapon Description \tPlain Text \tWeapon Description\n",
    "Status Code \tPlain Text \tStatus Code\n",
    "Status Description \tPlain Text \tStatus Description\n",
    "Crime Code 1 \tPlain Text \tCrime Code 1\n",
    "Crime Code 2 \tPlain Text \tCrime Code 2\n",
    "Crime Code 3 \tPlain Text \tCrime Code 3\n",
    "Crime Code 4 \tPlain Text \tCrime Code 4\n",
    "Address \tPlain Text \tadress of incident\n",
    "Cross Street \tPlain Text \tName of crossing street\n",
    "Location \tLocation \tlongitude and latitude of incident"
   ]
  },
  {
   "cell_type": "markdown",
   "metadata": {},
   "source": [
    "## import of Los Angeles crime data set 2018 until june 2019"
   ]
  },
  {
   "cell_type": "markdown",
   "metadata": {},
   "source": [
    "The full dataset, 2010 to present contains over 10M rows. \n",
    "I only use the 2018 en 2019 data, 326198 records, will be used. I want to use the columns below and these are only imported"
   ]
  },
  {
   "cell_type": "code",
   "execution_count": 33,
   "metadata": {},
   "outputs": [
    {
     "name": "stdout",
     "output_type": "stream",
     "text": [
      "Data Los Angeles downloaded and read into a dataframe!\n"
     ]
    }
   ],
   "source": [
    "#crime_keep_columns = ['DRNr',\n",
    "#                      'DateOccurred',\n",
    "#                      'AreaName', \n",
    "#                      'CrimeCodeDescription',\n",
    "#                      'VictimAge',\n",
    "#                      'VictimSex',\n",
    "#                      'Latitude'\n",
    "#                      'Longitude']\n",
    "\n",
    "# Read from local\n",
    "df_losangeles = pd.read_excel('LACRIMERED2018.xlsx',\n",
    "                              sheet_name='LosAngeles2018')\n",
    "print('Data Los Angeles downloaded and read into a dataframe!')"
   ]
  },
  {
   "cell_type": "code",
   "execution_count": 34,
   "metadata": {},
   "outputs": [
    {
     "data": {
      "text/html": [
       "<div>\n",
       "<style scoped>\n",
       "    .dataframe tbody tr th:only-of-type {\n",
       "        vertical-align: middle;\n",
       "    }\n",
       "\n",
       "    .dataframe tbody tr th {\n",
       "        vertical-align: top;\n",
       "    }\n",
       "\n",
       "    .dataframe thead th {\n",
       "        text-align: right;\n",
       "    }\n",
       "</style>\n",
       "<table border=\"1\" class=\"dataframe\">\n",
       "  <thead>\n",
       "    <tr style=\"text-align: right;\">\n",
       "      <th></th>\n",
       "      <th>DRNr</th>\n",
       "      <th>DateOccurred</th>\n",
       "      <th>YearOccured</th>\n",
       "      <th>MonthOccurred</th>\n",
       "      <th>Year_Month</th>\n",
       "      <th>Time Occurred</th>\n",
       "      <th>AreaName</th>\n",
       "      <th>CrimeCodeDescription</th>\n",
       "      <th>VictimAge</th>\n",
       "      <th>VictimSex</th>\n",
       "      <th>latitude</th>\n",
       "      <th>longitude</th>\n",
       "    </tr>\n",
       "  </thead>\n",
       "  <tbody>\n",
       "    <tr>\n",
       "      <td>0</td>\n",
       "      <td>170326543</td>\n",
       "      <td>2018-04-13</td>\n",
       "      <td>2018</td>\n",
       "      <td>4</td>\n",
       "      <td>2018-4</td>\n",
       "      <td>19:55</td>\n",
       "      <td>Wilshire</td>\n",
       "      <td>VEHICLE - STOLEN</td>\n",
       "      <td>0</td>\n",
       "      <td>M</td>\n",
       "      <td>34.452</td>\n",
       "      <td>-118.3351</td>\n",
       "    </tr>\n",
       "    <tr>\n",
       "      <td>1</td>\n",
       "      <td>170701073</td>\n",
       "      <td>2018-01-04</td>\n",
       "      <td>2018</td>\n",
       "      <td>1</td>\n",
       "      <td>2018-1</td>\n",
       "      <td>20:0</td>\n",
       "      <td>Wilshire</td>\n",
       "      <td>TRESPASSING</td>\n",
       "      <td>19</td>\n",
       "      <td>M</td>\n",
       "      <td>34.421</td>\n",
       "      <td>-118.3456</td>\n",
       "    </tr>\n",
       "    <tr>\n",
       "      <td>2</td>\n",
       "      <td>171616979</td>\n",
       "      <td>2018-02-25</td>\n",
       "      <td>2018</td>\n",
       "      <td>2</td>\n",
       "      <td>2018-2</td>\n",
       "      <td>9:40</td>\n",
       "      <td>Foothill</td>\n",
       "      <td>VEHICLE - STOLEN</td>\n",
       "      <td>0</td>\n",
       "      <td>M</td>\n",
       "      <td>34.2141</td>\n",
       "      <td>-118.3604</td>\n",
       "    </tr>\n",
       "    <tr>\n",
       "      <td>3</td>\n",
       "      <td>180100001</td>\n",
       "      <td>2018-09-18</td>\n",
       "      <td>2018</td>\n",
       "      <td>9</td>\n",
       "      <td>2018-9</td>\n",
       "      <td>0:35</td>\n",
       "      <td>Olympic</td>\n",
       "      <td>VEHICLE - STOLEN</td>\n",
       "      <td>32</td>\n",
       "      <td>F</td>\n",
       "      <td>34.382</td>\n",
       "      <td>-118.2889</td>\n",
       "    </tr>\n",
       "    <tr>\n",
       "      <td>4</td>\n",
       "      <td>180100513</td>\n",
       "      <td>2018-01-05</td>\n",
       "      <td>2018</td>\n",
       "      <td>1</td>\n",
       "      <td>2018-1</td>\n",
       "      <td>16:15</td>\n",
       "      <td>Central</td>\n",
       "      <td>BATTERY - SIMPLE ASSAULT</td>\n",
       "      <td>52</td>\n",
       "      <td>M</td>\n",
       "      <td>34.328</td>\n",
       "      <td>-118.2647</td>\n",
       "    </tr>\n",
       "  </tbody>\n",
       "</table>\n",
       "</div>"
      ],
      "text/plain": [
       "        DRNr DateOccurred  YearOccured  MonthOccurred Year_Month  \\\n",
       "0  170326543   2018-04-13         2018              4     2018-4   \n",
       "1  170701073   2018-01-04         2018              1     2018-1   \n",
       "2  171616979   2018-02-25         2018              2     2018-2   \n",
       "3  180100001   2018-09-18         2018              9     2018-9   \n",
       "4  180100513   2018-01-05         2018              1     2018-1   \n",
       "\n",
       "  Time Occurred  AreaName      CrimeCodeDescription  VictimAge VictimSex  \\\n",
       "0         19:55  Wilshire          VEHICLE - STOLEN          0         M   \n",
       "1          20:0  Wilshire               TRESPASSING         19         M   \n",
       "2          9:40  Foothill          VEHICLE - STOLEN          0         M   \n",
       "3          0:35   Olympic          VEHICLE - STOLEN         32         F   \n",
       "4         16:15   Central  BATTERY - SIMPLE ASSAULT         52         M   \n",
       "\n",
       "  latitude  longitude  \n",
       "0   34.452  -118.3351  \n",
       "1   34.421  -118.3456  \n",
       "2  34.2141  -118.3604  \n",
       "3   34.382  -118.2889  \n",
       "4   34.328  -118.2647  "
      ]
     },
     "execution_count": 34,
     "metadata": {},
     "output_type": "execute_result"
    }
   ],
   "source": [
    "# viewing first five lines\n",
    "df_losangeles.head()"
   ]
  },
  {
   "cell_type": "code",
   "execution_count": 35,
   "metadata": {},
   "outputs": [
    {
     "data": {
      "text/html": [
       "<div>\n",
       "<style scoped>\n",
       "    .dataframe tbody tr th:only-of-type {\n",
       "        vertical-align: middle;\n",
       "    }\n",
       "\n",
       "    .dataframe tbody tr th {\n",
       "        vertical-align: top;\n",
       "    }\n",
       "\n",
       "    .dataframe thead th {\n",
       "        text-align: right;\n",
       "    }\n",
       "</style>\n",
       "<table border=\"1\" class=\"dataframe\">\n",
       "  <thead>\n",
       "    <tr style=\"text-align: right;\">\n",
       "      <th></th>\n",
       "      <th>DRNr</th>\n",
       "      <th>DateOccurred</th>\n",
       "      <th>YearOccured</th>\n",
       "      <th>MonthOccurred</th>\n",
       "      <th>Year_Month</th>\n",
       "      <th>Time Occurred</th>\n",
       "      <th>AreaName</th>\n",
       "      <th>CrimeCodeDescription</th>\n",
       "      <th>VictimAge</th>\n",
       "      <th>VictimSex</th>\n",
       "      <th>latitude</th>\n",
       "      <th>longitude</th>\n",
       "    </tr>\n",
       "  </thead>\n",
       "  <tbody>\n",
       "    <tr>\n",
       "      <td>326193</td>\n",
       "      <td>192111884</td>\n",
       "      <td>2019-06-21</td>\n",
       "      <td>2019</td>\n",
       "      <td>6</td>\n",
       "      <td>2019-6</td>\n",
       "      <td>12:5</td>\n",
       "      <td>Topanga</td>\n",
       "      <td>SHOPLIFTING - PETTY THEFT ($950 &amp; UNDER)</td>\n",
       "      <td>35</td>\n",
       "      <td>M</td>\n",
       "      <td>34.1883</td>\n",
       "      <td>-118.6274</td>\n",
       "    </tr>\n",
       "    <tr>\n",
       "      <td>326194</td>\n",
       "      <td>199905748</td>\n",
       "      <td>2019-01-15</td>\n",
       "      <td>2019</td>\n",
       "      <td>1</td>\n",
       "      <td>2019-1</td>\n",
       "      <td>19:40</td>\n",
       "      <td>Southeast</td>\n",
       "      <td>KIDNAPPING</td>\n",
       "      <td>26</td>\n",
       "      <td>F</td>\n",
       "      <td>33.9449</td>\n",
       "      <td>-118.2367</td>\n",
       "    </tr>\n",
       "    <tr>\n",
       "      <td>326195</td>\n",
       "      <td>199907720</td>\n",
       "      <td>2019-02-01</td>\n",
       "      <td>2019</td>\n",
       "      <td>2</td>\n",
       "      <td>2019-2</td>\n",
       "      <td>21:26</td>\n",
       "      <td>Northeast</td>\n",
       "      <td>OTHER MISCELLANEOUS CRIME</td>\n",
       "      <td>0</td>\n",
       "      <td>X</td>\n",
       "      <td>34.1244</td>\n",
       "      <td>-118.1985</td>\n",
       "    </tr>\n",
       "    <tr>\n",
       "      <td>326196</td>\n",
       "      <td>199916823</td>\n",
       "      <td>2019-02-05</td>\n",
       "      <td>2019</td>\n",
       "      <td>2</td>\n",
       "      <td>2019-2</td>\n",
       "      <td>16:0</td>\n",
       "      <td>Devonshire</td>\n",
       "      <td>EMBEZZLEMENT, GRAND THEFT ($950.01 &amp; OVER)</td>\n",
       "      <td>0</td>\n",
       "      <td>NaN</td>\n",
       "      <td>34.2227</td>\n",
       "      <td>-118.5361</td>\n",
       "    </tr>\n",
       "    <tr>\n",
       "      <td>326197</td>\n",
       "      <td>199916825</td>\n",
       "      <td>2019-01-07</td>\n",
       "      <td>2019</td>\n",
       "      <td>1</td>\n",
       "      <td>2019-1</td>\n",
       "      <td>16:0</td>\n",
       "      <td>Devonshire</td>\n",
       "      <td>EMBEZZLEMENT, GRAND THEFT ($950.01 &amp; OVER)</td>\n",
       "      <td>0</td>\n",
       "      <td>NaN</td>\n",
       "      <td>34.2227</td>\n",
       "      <td>-118.5361</td>\n",
       "    </tr>\n",
       "  </tbody>\n",
       "</table>\n",
       "</div>"
      ],
      "text/plain": [
       "             DRNr DateOccurred  YearOccured  MonthOccurred Year_Month  \\\n",
       "326193  192111884   2019-06-21         2019              6     2019-6   \n",
       "326194  199905748   2019-01-15         2019              1     2019-1   \n",
       "326195  199907720   2019-02-01         2019              2     2019-2   \n",
       "326196  199916823   2019-02-05         2019              2     2019-2   \n",
       "326197  199916825   2019-01-07         2019              1     2019-1   \n",
       "\n",
       "       Time Occurred    AreaName                        CrimeCodeDescription  \\\n",
       "326193          12:5     Topanga    SHOPLIFTING - PETTY THEFT ($950 & UNDER)   \n",
       "326194         19:40   Southeast                                  KIDNAPPING   \n",
       "326195         21:26   Northeast                   OTHER MISCELLANEOUS CRIME   \n",
       "326196          16:0  Devonshire  EMBEZZLEMENT, GRAND THEFT ($950.01 & OVER)   \n",
       "326197          16:0  Devonshire  EMBEZZLEMENT, GRAND THEFT ($950.01 & OVER)   \n",
       "\n",
       "        VictimAge VictimSex latitude  longitude  \n",
       "326193         35         M  34.1883  -118.6274  \n",
       "326194         26         F  33.9449  -118.2367  \n",
       "326195          0         X  34.1244  -118.1985  \n",
       "326196          0       NaN  34.2227  -118.5361  \n",
       "326197          0       NaN  34.2227  -118.5361  "
      ]
     },
     "execution_count": 35,
     "metadata": {},
     "output_type": "execute_result"
    }
   ],
   "source": [
    "# viewing last five lines\n",
    "df_losangeles.tail()"
   ]
  },
  {
   "cell_type": "code",
   "execution_count": 36,
   "metadata": {},
   "outputs": [
    {
     "name": "stdout",
     "output_type": "stream",
     "text": [
      "(326198, 12)\n"
     ]
    }
   ],
   "source": [
    "# print the dimensions of the dataframe\n",
    "print(df_losangeles.shape)"
   ]
  },
  {
   "cell_type": "markdown",
   "metadata": {},
   "source": [
    "The sample data file were download begin July of 2019. Ten years is too much for this excercise. I use 2018 and 2019 data, so a periode of 18 months which are the most recent data."
   ]
  },
  {
   "cell_type": "code",
   "execution_count": 37,
   "metadata": {},
   "outputs": [
    {
     "data": {
      "text/plain": [
       "DRNr                             int64\n",
       "DateOccurred            datetime64[ns]\n",
       "YearOccured                      int64\n",
       "MonthOccurred                    int64\n",
       "Year_Month                      object\n",
       "Time Occurred                   object\n",
       "AreaName                        object\n",
       "CrimeCodeDescription            object\n",
       "VictimAge                        int64\n",
       "VictimSex                       object\n",
       "latitude                        object\n",
       "longitude                       object\n",
       "dtype: object"
      ]
     },
     "execution_count": 37,
     "metadata": {},
     "output_type": "execute_result"
    }
   ],
   "source": [
    "df_losangeles.dtypes"
   ]
  },
  {
   "cell_type": "markdown",
   "metadata": {},
   "source": [
    "## Data Visualisaton\n",
    "### number of crimes per month"
   ]
  },
  {
   "cell_type": "code",
   "execution_count": 38,
   "metadata": {},
   "outputs": [
    {
     "name": "stdout",
     "output_type": "stream",
     "text": [
      "Matplotlib version:  3.1.1\n"
     ]
    }
   ],
   "source": [
    "%matplotlib inline\n",
    "\n",
    "import matplotlib as mpl\n",
    "import matplotlib.pyplot as plt\n",
    "\n",
    "mpl.style.use('ggplot') # optional: for ggplot-like style\n",
    "\n",
    "# check for latest version of Matplotlib\n",
    "print('Matplotlib version: ', mpl.__version__) # >= 2.0.0"
   ]
  },
  {
   "cell_type": "code",
   "execution_count": 42,
   "metadata": {},
   "outputs": [
    {
     "data": {
      "text/plain": [
       "<matplotlib.axes._subplots.AxesSubplot at 0x231473ffa08>"
      ]
     },
     "execution_count": 42,
     "metadata": {},
     "output_type": "execute_result"
    },
    {
     "data": {
      "image/png": "[encoded data removed]",
      "text/plain": [
       "<Figure size 432x288 with 1 Axes>"
      ]
     },
     "metadata": {},
     "output_type": "display_data"
    }
   ],
   "source": [
    "df_losangeles.plot(x='MonthOccurred',y='VictimAge')"
   ]
  }
 ],
 "metadata": {
  "kernelspec": {
   "display_name": "Python 3",
   "language": "python",
   "name": "python3"
  },
  "language_info": {
   "codemirror_mode": {
    "name": "ipython",
    "version": 3
   },
   "file_extension": ".py",
   "mimetype": "text/x-python",
   "name": "python",
   "nbconvert_exporter": "python",
   "pygments_lexer": "ipython3",
   "version": "3.7.4"
  }
 },
 "nbformat": 4,
 "nbformat_minor": 2
}
