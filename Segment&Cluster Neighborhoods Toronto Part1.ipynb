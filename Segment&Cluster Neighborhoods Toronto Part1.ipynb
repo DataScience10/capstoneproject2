{
    "cells": [
        {
            "cell_type": "markdown",
            "metadata": {
                "collapsed": true
            },
            "source": "# Question 1"
        },
        {
            "cell_type": "markdown",
            "metadata": {},
            "source": "Start by creating a new Notebook for this assignment.\nsetup import of libraries and data"
        },
        {
            "cell_type": "code",
            "execution_count": 69,
            "metadata": {},
            "outputs": [],
            "source": "from bs4 import BeautifulSoup\nimport requests   # a library to handle requests\nimport numpy as np\nimport pandas as pd"
        },
        {
            "cell_type": "markdown",
            "metadata": {},
            "source": "Scrape the following Wikipedia page, https://en.wikipedia.org/wiki/List_of_postal_codes_of_Canada:_M, in order to obtain the data that is in the table of postal codes and to transform the data into a pandas dataframe like the one shown below:\nScrape the List of postal codes of Canada"
        },
        {
            "cell_type": "code",
            "execution_count": 70,
            "metadata": {},
            "outputs": [],
            "source": "url = \"https://en.wikipedia.org/wiki/List_of_postal_codes_of_Canada:_M\"\n\ntext_result = requests.get(url).text #get the entire html of the article as a str\nhtml_parsed_result = BeautifulSoup(text_result, 'html.parser') #transform the text to html\n\nneightborhood_info_table = html_parsed_result.find('table', class_ = 'wikitable')\nneightborhood_rows = neightborhood_info_table.find_all('tr')\n\n# extract the info ('Postcode', 'Borough', 'Neighbourhood') from the table\nneightborhood_info = []\nfor row in neightborhood_rows:\n    info = row.text.split('\\n')[1:-1] # remove empty str (first and last items)\n    neightborhood_info.append(info)"
        },
        {
            "cell_type": "markdown",
            "metadata": {},
            "source": "The dataframe will consist of three columns: PostalCode, Borough, and Neighborhood\nTransform the data into pandas dataframe"
        },
        {
            "cell_type": "code",
            "execution_count": 71,
            "metadata": {},
            "outputs": [
                {
                    "data": {
                        "text/html": "<div>\n<style scoped>\n    .dataframe tbody tr th:only-of-type {\n        vertical-align: middle;\n    }\n\n    .dataframe tbody tr th {\n        vertical-align: top;\n    }\n\n    .dataframe thead th {\n        text-align: right;\n    }\n</style>\n<table border=\"1\" class=\"dataframe\">\n  <thead>\n    <tr style=\"text-align: right;\">\n      <th></th>\n      <th>Postcode</th>\n      <th>Borough</th>\n      <th>Neighborhood</th>\n    </tr>\n  </thead>\n  <tbody>\n    <tr>\n      <th>0</th>\n      <td>M1A</td>\n      <td>Not assigned</td>\n      <td>Not assigned</td>\n    </tr>\n    <tr>\n      <th>1</th>\n      <td>M2A</td>\n      <td>Not assigned</td>\n      <td>Not assigned</td>\n    </tr>\n    <tr>\n      <th>2</th>\n      <td>M3A</td>\n      <td>North York</td>\n      <td>Parkwoods</td>\n    </tr>\n    <tr>\n      <th>3</th>\n      <td>M4A</td>\n      <td>North York</td>\n      <td>Victoria Village</td>\n    </tr>\n    <tr>\n      <th>4</th>\n      <td>M5A</td>\n      <td>Downtown Toronto</td>\n      <td>Harbourfront</td>\n    </tr>\n    <tr>\n      <th>5</th>\n      <td>M6A</td>\n      <td>North York</td>\n      <td>Lawrence Heights</td>\n    </tr>\n    <tr>\n      <th>6</th>\n      <td>M6A</td>\n      <td>North York</td>\n      <td>Lawrence Manor</td>\n    </tr>\n    <tr>\n      <th>7</th>\n      <td>M7A</td>\n      <td>Downtown Toronto</td>\n      <td>Queen's Park</td>\n    </tr>\n    <tr>\n      <th>8</th>\n      <td>M8A</td>\n      <td>Not assigned</td>\n      <td>Not assigned</td>\n    </tr>\n    <tr>\n      <th>9</th>\n      <td>M9A</td>\n      <td>Queen's Park</td>\n      <td>Not assigned</td>\n    </tr>\n  </tbody>\n</table>\n</div>",
                        "text/plain": "  Postcode           Borough      Neighborhood\n0      M1A      Not assigned      Not assigned\n1      M2A      Not assigned      Not assigned\n2      M3A        North York         Parkwoods\n3      M4A        North York  Victoria Village\n4      M5A  Downtown Toronto      Harbourfront\n5      M6A        North York  Lawrence Heights\n6      M6A        North York    Lawrence Manor\n7      M7A  Downtown Toronto      Queen's Park\n8      M8A      Not assigned      Not assigned\n9      M9A      Queen's Park      Not assigned"
                    },
                    "execution_count": 71,
                    "metadata": {},
                    "output_type": "execute_result"
                }
            ],
            "source": "#create a Neighborhoods dataframe\nneightborhood_info[0][-1] = 'Neighborhood' # change to american spelling\nneighborhood_df = pd.DataFrame(neightborhood_info[1:], columns=neightborhood_info[0])\n\nneighborhood_df.head(10)"
        },
        {
            "cell_type": "markdown",
            "metadata": {},
            "source": "Only process the cells that have an assigned borough. Ignore cells with a borough that is Not assigned.\nExplore and clean neighborhoods dataset"
        },
        {
            "cell_type": "code",
            "execution_count": 72,
            "metadata": {},
            "outputs": [],
            "source": "not_assigned_boroughs = neighborhood_df.index[neighborhood_df['Borough'] == 'Not assigned']\nnot_assigned_neighborhoods = neighborhood_df.index[neighborhood_df['Neighborhood'] == 'Not assigned']\nnot_assigned_neighborhoods_and_borough = not_assigned_boroughs & not_assigned_neighborhoods"
        },
        {
            "cell_type": "markdown",
            "metadata": {},
            "source": "Eliminating The rows with \"Not assigned\" Boroughs"
        },
        {
            "cell_type": "code",
            "execution_count": 73,
            "metadata": {},
            "outputs": [],
            "source": "neighborhood_df.drop(neighborhood_df.index[not_assigned_boroughs], inplace=True)\nneighborhood_df.reset_index(drop=True, inplace=True)"
        },
        {
            "cell_type": "markdown",
            "metadata": {},
            "source": "Replacing the \"Not assigned\" values in the Neighborhood column with the Borough name in that cell"
        },
        {
            "cell_type": "code",
            "execution_count": 74,
            "metadata": {},
            "outputs": [],
            "source": "not_assigned_neighborhoods = neighborhood_df.index[neighborhood_df['Neighborhood'] == 'Not assigned']\nfor idx in not_assigned_neighborhoods:\n    neighborhood_df['Neighborhood'][idx] = neighborhood_df['Borough'][idx]"
        },
        {
            "cell_type": "markdown",
            "metadata": {},
            "source": "More than one neighborhood can exist in one postal code area. For example, in the table on the Wikipedia page, you will notice that M5A is listed twice and has two neighborhoods: Harbourfront and Regent Park. \nThese two rows will be combined into one row with the neighborhoods separated with a comma as shown in row 11 in the above table."
        },
        {
            "cell_type": "code",
            "execution_count": 75,
            "metadata": {},
            "outputs": [],
            "source": "group = neighborhood_df.groupby('Postcode')\ngrouped_neighborhoods = group['Neighborhood'].apply(lambda x: \"%s\" % ', '.join(x))\ngrouped_boroughs = group['Borough'].apply(lambda x: set(x).pop())\ngrouped_df = pd.DataFrame(list(zip(grouped_boroughs.index, grouped_boroughs, grouped_neighborhoods)))\ngrouped_df.columns = ['Postcode', 'Borough', 'Neighborhood']"
        },
        {
            "cell_type": "markdown",
            "metadata": {},
            "source": "Clean your Notebook and add Markdown cells to explain your work and any assumptions you are making."
        },
        {
            "cell_type": "code",
            "execution_count": 77,
            "metadata": {},
            "outputs": [
                {
                    "data": {
                        "text/html": "<div>\n<style scoped>\n    .dataframe tbody tr th:only-of-type {\n        vertical-align: middle;\n    }\n\n    .dataframe tbody tr th {\n        vertical-align: top;\n    }\n\n    .dataframe thead th {\n        text-align: right;\n    }\n</style>\n<table border=\"1\" class=\"dataframe\">\n  <thead>\n    <tr style=\"text-align: right;\">\n      <th></th>\n      <th>Postcode</th>\n      <th>Borough</th>\n      <th>Neighborhood</th>\n    </tr>\n  </thead>\n  <tbody>\n    <tr>\n      <th>0</th>\n      <td>M1B</td>\n      <td>Scarborough</td>\n      <td>Rouge, Malvern</td>\n    </tr>\n    <tr>\n      <th>1</th>\n      <td>M1C</td>\n      <td>Scarborough</td>\n      <td>Highland Creek, Rouge Hill, Port Union</td>\n    </tr>\n    <tr>\n      <th>2</th>\n      <td>M1E</td>\n      <td>Scarborough</td>\n      <td>Guildwood, Morningside, West Hill</td>\n    </tr>\n    <tr>\n      <th>3</th>\n      <td>M1G</td>\n      <td>Scarborough</td>\n      <td>Woburn</td>\n    </tr>\n    <tr>\n      <th>4</th>\n      <td>M1H</td>\n      <td>Scarborough</td>\n      <td>Cedarbrae</td>\n    </tr>\n    <tr>\n      <th>5</th>\n      <td>M1J</td>\n      <td>Scarborough</td>\n      <td>Scarborough Village</td>\n    </tr>\n    <tr>\n      <th>6</th>\n      <td>M1K</td>\n      <td>Scarborough</td>\n      <td>East Birchmount Park, Ionview, Kennedy Park</td>\n    </tr>\n    <tr>\n      <th>7</th>\n      <td>M1L</td>\n      <td>Scarborough</td>\n      <td>Clairlea, Golden Mile, Oakridge</td>\n    </tr>\n    <tr>\n      <th>8</th>\n      <td>M1M</td>\n      <td>Scarborough</td>\n      <td>Cliffcrest, Cliffside, Scarborough Village West</td>\n    </tr>\n    <tr>\n      <th>9</th>\n      <td>M1N</td>\n      <td>Scarborough</td>\n      <td>Birch Cliff, Cliffside West</td>\n    </tr>\n  </tbody>\n</table>\n</div>",
                        "text/plain": "  Postcode      Borough                                     Neighborhood\n0      M1B  Scarborough                                   Rouge, Malvern\n1      M1C  Scarborough           Highland Creek, Rouge Hill, Port Union\n2      M1E  Scarborough                Guildwood, Morningside, West Hill\n3      M1G  Scarborough                                           Woburn\n4      M1H  Scarborough                                        Cedarbrae\n5      M1J  Scarborough                              Scarborough Village\n6      M1K  Scarborough      East Birchmount Park, Ionview, Kennedy Park\n7      M1L  Scarborough                  Clairlea, Golden Mile, Oakridge\n8      M1M  Scarborough  Cliffcrest, Cliffside, Scarborough Village West\n9      M1N  Scarborough                      Birch Cliff, Cliffside West"
                    },
                    "execution_count": 77,
                    "metadata": {},
                    "output_type": "execute_result"
                }
            ],
            "source": "grouped_df.head(10)"
        },
        {
            "cell_type": "code",
            "execution_count": 78,
            "metadata": {},
            "outputs": [
                {
                    "data": {
                        "text/plain": "(103, 3)"
                    },
                    "execution_count": 78,
                    "metadata": {},
                    "output_type": "execute_result"
                }
            ],
            "source": "#In the last cell of your notebook, use the .shape method to print the number of rows of your dataframe.\ndf.shape"
        }
    ],
    "metadata": {
        "kernelspec": {
            "display_name": "Python 3.6",
            "language": "python",
            "name": "python3"
        },
        "language_info": {
            "codemirror_mode": {
                "name": "ipython",
                "version": 3
            },
            "file_extension": ".py",
            "mimetype": "text/x-python",
            "name": "python",
            "nbconvert_exporter": "python",
            "pygments_lexer": "ipython3",
            "version": "3.6.8"
        }
    },
    "nbformat": 4,
    "nbformat_minor": 1
}