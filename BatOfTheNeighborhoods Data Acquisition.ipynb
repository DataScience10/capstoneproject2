{
    "cells": [
        {
            "cell_type": "markdown",
            "metadata": {
                "collapsed": true
            },
            "source": "# Data Section"
        },
        {
            "cell_type": "markdown",
            "metadata": {},
            "source": "The first phase of the project is to acquire all of the data that is needed for this project. \nThe initial data required can be divided in three datasets\n\n    The FourSquare Top 30 Venues to Visit in Los Angeles\n    For each of the Top Site get a list of up restaurants in the surrounding area\n    The Los Angeles Police Department Crime Data for the last Year"
        },
        {
            "cell_type": "markdown",
            "metadata": {},
            "source": "# Importing Libraries"
        },
        {
            "cell_type": "markdown",
            "metadata": {},
            "source": "In this section we import the libraries that will be required to process the data.\n\nA. Pandas: an open source, BSD-licensed library, providing high-performance, easy-to-use data structures and data analysis tools for the Python programming language. \nPandas will be used to house each of the data sets.\n\nB. Requests: a Python HTTP library, released under the Apache2 License. The goal of the project is to make HTTP requests simpler and more human-friendly.\n\nC. Beautiful Soup: a Python package for parsing HTML and XML documents, which is very useful for web scraping."
        },
        {
            "cell_type": "code",
            "execution_count": null,
            "metadata": {},
            "outputs": [],
            "source": "import pandas as pd\npd.set_option('display.max_columns', None)\npd.set_option('display.max_rows', None)\nimport requests\nfrom bs4 import BeautifulSoup"
        }
    ],
    "metadata": {
        "kernelspec": {
            "display_name": "Python 3.6",
            "language": "python",
            "name": "python3"
        },
        "language_info": {
            "codemirror_mode": {
                "name": "ipython",
                "version": 3
            },
            "file_extension": ".py",
            "mimetype": "text/x-python",
            "name": "python",
            "nbconvert_exporter": "python",
            "pygments_lexer": "ipython3",
            "version": "3.6.8"
        }
    },
    "nbformat": 4,
    "nbformat_minor": 1
}